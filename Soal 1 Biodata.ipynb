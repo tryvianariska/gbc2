{
 "cells": [
  {
   "cell_type": "code",
   "execution_count": 2,
   "metadata": {},
   "outputs": [],
   "source": [
    "import json\n",
    "\n",
    "name = \"Tryviana Yusriska Sari\"\n",
    "address = \"Jalan Baitis Salmah Sawah Baru - Tangerang Selatan\"\n",
    "hobbies = [\"membaca\", \"mendengarkan musik\", \"menonton drama\"]\n",
    "is_married = False\n",
    "highSchool = \"SMAN 3 Pamekasan\"\n",
    "university = \"Universitas Indonesia\"\n",
    "\n",
    "#create object school\n",
    "class school(object):\n",
    "    pass\n",
    "school = school()\n",
    "school.highSchool = highSchool\n",
    "school.university = university\n",
    "\n",
    "#create object Skill\n",
    "class Skill(object):\n",
    "     def __init__(self, name):\n",
    "        self.name = name\n",
    "skill = []\n",
    "skill.append(Skill(\"Java/android dev\"))\n",
    "skill.append(Skill(\"Python\"))\n",
    "skill.append(Skill(\"R\"))"
   ]
  },
  {
   "cell_type": "markdown",
   "metadata": {},
   "source": [
    "# SOAL NOMOR 1"
   ]
  },
  {
   "cell_type": "code",
   "execution_count": 3,
   "metadata": {},
   "outputs": [
    {
     "data": {
      "text/plain": [
       "'{\\n    \"address\": \"Jalan Baitis Salmah Sawah Baru - Tangerang Selatan\",\\n    \"hobbies\": [\\n        \"membaca\",\\n        \"mendengarkan musik\",\\n        \"menonton drama\"\\n    ],\\n    \"is_married\": false,\\n    \"name\": \"Tryviana Yusriska Sari\",\\n    \"school\": {\\n        \"highSchool\": \"SMAN 3 Pamekasan\",\\n        \"university\": \"Universitas Indonesia\"\\n    },\\n    \"skills\": [\\n        \"Java/android dev\",\\n        \"Python\",\\n        \"R\"\\n    ]\\n}'"
      ]
     },
     "execution_count": 3,
     "metadata": {},
     "output_type": "execute_result"
    }
   ],
   "source": [
    "def getBiodata():\n",
    "    biodata = {}\n",
    "    biodata['name'] = name\n",
    "    biodata['address'] = address\n",
    "    biodata['hobbies'] = hobbies\n",
    "    biodata['is_married'] = is_married\n",
    "    biodata['school'] = school.__dict__\n",
    "    biodata['skills'] = [o.name for o in skill]\n",
    "    return json.dumps(biodata,sort_keys=True, indent=4)\n",
    "\n",
    "getBiodata()"
   ]
  },
  {
   "cell_type": "code",
   "execution_count": null,
   "metadata": {},
   "outputs": [],
   "source": []
  }
 ],
 "metadata": {
  "kernelspec": {
   "display_name": "Python 3",
   "language": "python",
   "name": "python3"
  },
  "language_info": {
   "codemirror_mode": {
    "name": "ipython",
    "version": 3
   },
   "file_extension": ".py",
   "mimetype": "text/x-python",
   "name": "python",
   "nbconvert_exporter": "python",
   "pygments_lexer": "ipython3",
   "version": "3.7.0"
  }
 },
 "nbformat": 4,
 "nbformat_minor": 2
}
