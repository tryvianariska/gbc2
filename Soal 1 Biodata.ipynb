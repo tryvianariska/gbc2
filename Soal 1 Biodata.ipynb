{
 "cells": [
  {
   "cell_type": "markdown",
   "metadata": {},
   "source": [
    "# SOAL NOMOR 1"
   ]
  },
  {
   "cell_type": "code",
   "execution_count": 3,
   "metadata": {},
   "outputs": [
    {
     "name": "stdout",
     "output_type": "stream",
     "text": [
      "{'name': 'Tryviana Yusriska Sari', 'address': 'Jalan Baitis Salmah Sawah Baru - Tangerang Selatan', 'hobbies': ['membaca', 'mendengarkan musik', 'nonton drama'], 'is_married': False, 'school': {'highSchool': 'SMAN 3 Pamekasan', 'university': 'Universitas Indonesia'}, 'skills': ['aa', 'bb', 'cc']}\n"
     ]
    }
   ],
   "source": [
    "name = \"Tryviana Yusriska Sari\"\n",
    "address = \"Jalan Baitis Salmah Sawah Baru - Tangerang Selatan\"\n",
    "hobbies = [\"membaca\", \"mendengarkan musik\", \"nonton drama\"]\n",
    "is_married = False\n",
    "highSchool = \"SMAN 3 Pamekasan\"\n",
    "university = \"Universitas Indonesia\"\n",
    "skills = [\"aa\", \"bb\",\"cc\"]\n",
    "\n",
    "class school(object):\n",
    "    pass\n",
    "school = school()\n",
    "school.highSchool = highSchool\n",
    "school.university = university\n",
    "\n",
    "def getBiodata():\n",
    "    biodata = {}\n",
    "    biodata['name'] = name\n",
    "    biodata['address'] = address\n",
    "    biodata['hobbies'] = hobbies\n",
    "    biodata['is_married'] = is_married\n",
    "    biodata['school'] = school.__dict__\n",
    "    biodata['skills'] = skills\n",
    "    \n",
    "    print(biodata)\n",
    "getBiodata()"
   ]
  },
  {
   "cell_type": "code",
   "execution_count": null,
   "metadata": {},
   "outputs": [],
   "source": []
  }
 ],
 "metadata": {
  "kernelspec": {
   "display_name": "Python 3",
   "language": "python",
   "name": "python3"
  },
  "language_info": {
   "codemirror_mode": {
    "name": "ipython",
    "version": 3
   },
   "file_extension": ".py",
   "mimetype": "text/x-python",
   "name": "python",
   "nbconvert_exporter": "python",
   "pygments_lexer": "ipython3",
   "version": "3.7.0"
  }
 },
 "nbformat": 4,
 "nbformat_minor": 2
}
