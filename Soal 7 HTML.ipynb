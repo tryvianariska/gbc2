{
 "cells": [
  {
   "cell_type": "code",
   "execution_count": 18,
   "metadata": {},
   "outputs": [],
   "source": [
    "import pymysql\n",
    "import pandas as pd\n",
    "import webbrowser\n",
    "\n",
    "host = '127.0.0.1'\n",
    "port = \"3306\"\n",
    "user = 'root'\n",
    "password = ''\n",
    "database = 'gudang'\n",
    "\n",
    "conn = pymysql.connect(\n",
    "    host=host,\n",
    "    port=int(port),\n",
    "    user=user,\n",
    "    passwd=password,\n",
    "    db=database,\n",
    "    charset='utf8mb4')\n",
    "\n",
    "def run(sql):\n",
    "    df = pd.read_sql_query(sql,conn)\n",
    "    return df\n",
    "\n",
    "table = run(\"\"\"\n",
    "select c.id, c.name as category_name, GROUP_CONCAT(p.name ORDER BY p.name ASC SEPARATOR ', ') as products\n",
    "from products p\n",
    "inner join categories c on p.category_id = c.id\n",
    "group by c.id, category_name\n",
    "\"\"\")"
   ]
  },
  {
   "cell_type": "markdown",
   "metadata": {},
   "source": [
    "# Soal 7"
   ]
  },
  {
   "cell_type": "code",
   "execution_count": 19,
   "metadata": {},
   "outputs": [
    {
     "data": {
      "text/plain": [
       "True"
      ]
     },
     "execution_count": 19,
     "metadata": {},
     "output_type": "execute_result"
    }
   ],
   "source": [
    "tbl_msg = \"\"\"\n",
    "<table>\n",
    "   <tr>\n",
    "    <th>id</th>\n",
    "    <th>category_name</th> \n",
    "    <th>products</th>\n",
    "    </tr>\n",
    "\"\"\"\n",
    "for index, row in table.iterrows():\n",
    "    tbl_msg += \"<tr>\"\n",
    "    tbl_msg += \"<td>\" + str(row.id) + \"</td><td>\" + row.category_name + \"</td><td>\" +  row.products + \"</td>\"\n",
    "    tbl_msg += \"</tr>\"\n",
    "tbl_msg += \"</table>\"\n",
    "\n",
    "f = open('htmlview.html','w')\n",
    "\n",
    "message = \"\"\"<html>\n",
    "<head><link rel=\"stylesheet\" href=\"styles.css\"></head>\n",
    "<body>\n",
    "<h1> Tampilan Tabel </h1>\n",
    "\"\"\" + tbl_msg + \"</body></html>\"\n",
    "\n",
    "f.write(message)\n",
    "f.close()\n",
    "\n",
    "webbrowser.open_new_tab('htmlview.html')"
   ]
  },
  {
   "cell_type": "code",
   "execution_count": null,
   "metadata": {},
   "outputs": [],
   "source": []
  }
 ],
 "metadata": {
  "kernelspec": {
   "display_name": "Python 3",
   "language": "python",
   "name": "python3"
  },
  "language_info": {
   "codemirror_mode": {
    "name": "ipython",
    "version": 3
   },
   "file_extension": ".py",
   "mimetype": "text/x-python",
   "name": "python",
   "nbconvert_exporter": "python",
   "pygments_lexer": "ipython3",
   "version": "3.7.0"
  }
 },
 "nbformat": 4,
 "nbformat_minor": 2
}
