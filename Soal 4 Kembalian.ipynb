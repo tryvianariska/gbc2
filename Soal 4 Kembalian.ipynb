{
 "cells": [
  {
   "cell_type": "code",
   "execution_count": 1,
   "metadata": {},
   "outputs": [],
   "source": [
    "def kembalian(totalBelanja, uangBayar):\n",
    "    u500 = 500;u1k = 1000;u2k = 2000; u5k = 5000;u10k = 10000;u20k = 20000;u50k = 50000\n",
    "    if uangBayar >= totalBelanja:\n",
    "        kembali = uangBayar - totalBelanja\n",
    "        sisa = kembali\n",
    "\n",
    "        if sisa >= u50k:\n",
    "            n50k = int(sisa/u50k); sisa = sisa%u50k\n",
    "            print (\"selembar 50.000\") if n50k == 1 else print(str(n50k) + \" lembar 50.000\")   \n",
    "        if sisa >=u20k:\n",
    "            n20k = int(sisa/u20k); sisa = sisa%u20k\n",
    "            print(\"selembar 20.000\") if n20k == 1 else print(str(n20k) + \" lembar 20.000\")\n",
    "        if sisa >=u10k:\n",
    "            n10k = int(sisa/u10k); sisa = sisa%u10k\n",
    "            print (\"selembar 10.000\") if n10k == 1 else print(str(n10k) + \" lembar 10.000\")\n",
    "        if sisa >=u5k:\n",
    "            n5k = int(sisa/u5k); sisa = sisa%u5k\n",
    "            print (\"selembar 5.000\") if n5k == 1 else print(str(n5k) + \" lembar 5.000\")\n",
    "        if sisa >= u2k:\n",
    "            n2k = int(sisa/u2k); sisa = sisa%u2k\n",
    "            print (\"selembar 2.000\") if n2k == 1 else print(str(n2k) + \" lembar 2.000\")\n",
    "        if sisa >= u1k:\n",
    "            n1k = int(sisa/u1k); sisa = sisa%u1k\n",
    "            print (\"selembar 1.000\") if n1k == 1 else print(str(n1k) + \" lembar 1.000\")\n",
    "        if sisa >= u500:\n",
    "            n500 = int(sisa/u500);sisa = sisa%u500\n",
    "            print(str(n500) + \" koin 500\")\n",
    "    else:\n",
    "        print(\"uang yang dibayar kurang\")"
   ]
  },
  {
   "cell_type": "markdown",
   "metadata": {},
   "source": [
    "# SOAL NOMOR 4"
   ]
  },
  {
   "cell_type": "code",
   "execution_count": 2,
   "metadata": {},
   "outputs": [
    {
     "name": "stdout",
     "output_type": "stream",
     "text": [
      "masukkan total belanja:15.500\n",
      "masukkan jumlah uang yang dibayar:50.000\n",
      "selembar 20.000\n",
      "selembar 10.000\n",
      "2 lembar 2.000\n",
      "1 koin 500\n"
     ]
    }
   ],
   "source": [
    "totalBelanja = int(''.join(c for c in input(\"masukkan total belanja:\") if c.isdigit()))\n",
    "jumlahBayar = int(''.join(c for c in input(\"masukkan jumlah uang yang dibayar:\") if c.isdigit()))\n",
    "\n",
    "kembalian(totalBelanja, jumlahBayar)"
   ]
  },
  {
   "cell_type": "code",
   "execution_count": null,
   "metadata": {},
   "outputs": [],
   "source": []
  }
 ],
 "metadata": {
  "kernelspec": {
   "display_name": "Python 3",
   "language": "python",
   "name": "python3"
  },
  "language_info": {
   "codemirror_mode": {
    "name": "ipython",
    "version": 3
   },
   "file_extension": ".py",
   "mimetype": "text/x-python",
   "name": "python",
   "nbconvert_exporter": "python",
   "pygments_lexer": "ipython3",
   "version": "3.7.0"
  }
 },
 "nbformat": 4,
 "nbformat_minor": 2
}
