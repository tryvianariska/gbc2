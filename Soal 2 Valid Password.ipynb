{
 "cells": [
  {
   "cell_type": "code",
   "execution_count": 1,
   "metadata": {},
   "outputs": [],
   "source": [
    "def validPassword(password):\n",
    "    upper = lower = number = False\n",
    "    if len(password) == 8 and (not password.isalnum()):\n",
    "        for x in password:\n",
    "            if x.isupper():\n",
    "                upper = True\n",
    "            elif x.islower():\n",
    "                lower = True\n",
    "            elif x.isdigit():\n",
    "                number = True\n",
    "        return upper and lower and number\n",
    "    else:\n",
    "        return False"
   ]
  },
  {
   "cell_type": "markdown",
   "metadata": {},
   "source": [
    "# SOAL NOMOR 2"
   ]
  },
  {
   "cell_type": "code",
   "execution_count": 2,
   "metadata": {},
   "outputs": [
    {
     "name": "stdout",
     "output_type": "stream",
     "text": [
      "masukkan password:123Qwer_\n",
      "password valid\n"
     ]
    }
   ],
   "source": [
    "pw = input(\"masukkan password:\")\n",
    "if validPassword(pw):\n",
    "    print(\"password valid\")\n",
    "else:\n",
    "    print(\"password tidak valid\")"
   ]
  },
  {
   "cell_type": "code",
   "execution_count": null,
   "metadata": {},
   "outputs": [],
   "source": []
  }
 ],
 "metadata": {
  "kernelspec": {
   "display_name": "Python 3",
   "language": "python",
   "name": "python3"
  },
  "language_info": {
   "codemirror_mode": {
    "name": "ipython",
    "version": 3
   },
   "file_extension": ".py",
   "mimetype": "text/x-python",
   "name": "python",
   "nbconvert_exporter": "python",
   "pygments_lexer": "ipython3",
   "version": "3.7.0"
  }
 },
 "nbformat": 4,
 "nbformat_minor": 2
}
