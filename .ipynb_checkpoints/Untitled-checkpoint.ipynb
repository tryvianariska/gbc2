{
 "cells": [
  {
   "cell_type": "code",
   "execution_count": 63,
   "metadata": {},
   "outputs": [],
   "source": [
    "name = \"Tryviana Yusriska Sari\"\n",
    "address = \"Jalan Baitis Salmah Sawah Baru - Tangerang Selatan\"\n",
    "hobbies = [\"membaca\", \"mendengarkan musik\", \"nonton drama\"]\n",
    "is_married = False\n",
    "highSchool = \"SMAN 3 Pamekasan\"\n",
    "university = \"Universitas Indonesia\"\n",
    "skills = [\"aa\", \"bb\",\"cc\"]\n",
    "\n",
    "class school(object):\n",
    "    pass\n",
    "school = school()\n",
    "school.highSchool = highSchool\n",
    "school.university = university"
   ]
  },
  {
   "cell_type": "code",
   "execution_count": 70,
   "metadata": {},
   "outputs": [],
   "source": [
    "skills = object()"
   ]
  },
  {
   "cell_type": "code",
   "execution_count": 71,
   "metadata": {},
   "outputs": [
    {
     "data": {
      "text/plain": [
       "<object at 0x18491130110>"
      ]
     },
     "execution_count": 71,
     "metadata": {},
     "output_type": "execute_result"
    }
   ],
   "source": [
    "skills"
   ]
  },
  {
   "cell_type": "code",
   "execution_count": 61,
   "metadata": {},
   "outputs": [],
   "source": [
    "def getBiodata():\n",
    "    biodata = {}\n",
    "    biodata['name'] = name\n",
    "    biodata['address'] = address\n",
    "    biodata['hobbies'] = hobbies\n",
    "    biodata['is_married'] = is_married\n",
    "    biodata['school'] = school.__dict__\n",
    "    biodata['skills'] = skills\n",
    "    \n",
    "    print(biodata)\n",
    "    "
   ]
  },
  {
   "cell_type": "code",
   "execution_count": 62,
   "metadata": {},
   "outputs": [
    {
     "name": "stdout",
     "output_type": "stream",
     "text": [
      "{'name': 'Tryviana Yusriska Sari', 'address': 'Jalan Baitis Salmah Sawah Baru - Tangerang Selatan', 'hobbies': ['membaca', 'mendengarkan musik', 'nonton drama'], 'is_married': False, 'school': {'highSchool': 'SMAN 3 Pamekasan', 'university': 'Universitas Indonesia'}, 'skills': ['aa', 'bb', 'cc']}\n"
     ]
    }
   ],
   "source": [
    "getBiodata()"
   ]
  },
  {
   "cell_type": "code",
   "execution_count": 117,
   "metadata": {},
   "outputs": [],
   "source": [
    "def validPassword(password):\n",
    "    upper = lower = number = False\n",
    "    if len(password) == 8 and (not password.isalnum()):\n",
    "        for x in password:\n",
    "            if x.isupper():\n",
    "                upper = True\n",
    "            elif x.islower():\n",
    "                lower = True\n",
    "            elif x.isdigit():\n",
    "                number = True\n",
    "        return upper and lower and number\n",
    "    else:\n",
    "        return False"
   ]
  },
  {
   "cell_type": "code",
   "execution_count": 145,
   "metadata": {},
   "outputs": [],
   "source": [
    "def drawLine(n):\n",
    "    a = \"   \"\n",
    "    for x in range(n):\n",
    "        print(a * x, \"*\")"
   ]
  },
  {
   "cell_type": "code",
   "execution_count": 146,
   "metadata": {},
   "outputs": [
    {
     "name": "stdout",
     "output_type": "stream",
     "text": [
      " *\n",
      "    *\n",
      "       *\n",
      "          *\n",
      "             *\n",
      "                *\n",
      "                   *\n",
      "                      *\n"
     ]
    }
   ],
   "source": [
    "drawLine(8)"
   ]
  },
  {
   "cell_type": "code",
   "execution_count": 161,
   "metadata": {},
   "outputs": [],
   "source": [
    "def kembalian(totalBelanja, uangBayar):\n",
    "    u500 = 500\n",
    "    u1k = 1000\n",
    "    u2k = 2000\n",
    "    u5k = 5000\n",
    "    u10k = 10000\n",
    "    u20k = 20000\n",
    "    u50k = 50000\n",
    "    \n",
    "    kembali = uangBayar - totalBelanja\n",
    "    sisa = kembali\n",
    "    \n",
    "    if sisa >= u50k:\n",
    "        n50k = int(sisa/u50k)\n",
    "        sisa = sisa%u50k\n",
    "        print(str(n50k) + \" lembar 50.000\", sisa)\n",
    "    if sisa >=u20k:\n",
    "        n20k = int(sisa/u20k)\n",
    "        sisa = sisa%u20k\n",
    "        print(str(n20k) + \" lembar 20.000\", sisa)\n",
    "    if sisa >=u10k:\n",
    "        n10k = int(sisa/u10k)\n",
    "        sisa = sisa%u10k\n",
    "        print(str(n10k) + \" lembar 10.000\", sisa)\n",
    "    if sisa >=u5k:\n",
    "        n5k = int(sisa/u5k)\n",
    "        sisa = sisa%u5k\n",
    "        print(str(n5k) + \" lembar 5.000\", sisa)\n",
    "    if sisa >= u2k:\n",
    "        n2k = int(sisa/u2k)\n",
    "        sisa = sisa%u2k\n",
    "        print(str(n2k) + \" lembar 2.000\", sisa)\n",
    "    if sisa >= u1k:\n",
    "        n1k = int(sisa/u1k)\n",
    "        sisa = sisa%u1k\n",
    "        print(str(n1k) + \" lembar 1.000\", sisa)\n",
    "    if sisa >= u500:\n",
    "        n500 = int(sisa/u500)\n",
    "        sisa = sisa%u500\n",
    "        print(str(n500) + \" koin 500\", sisa)\n",
    "    "
   ]
  },
  {
   "cell_type": "code",
   "execution_count": 162,
   "metadata": {},
   "outputs": [
    {
     "name": "stdout",
     "output_type": "stream",
     "text": [
      "1 lembar 20.000 14500\n",
      "1 lembar 10.000 4500\n",
      "2 lembar 2.000 500\n",
      "1 koin 500 0\n"
     ]
    }
   ],
   "source": [
    "kembalian(15500, 50000)"
   ]
  },
  {
   "cell_type": "code",
   "execution_count": 163,
   "metadata": {},
   "outputs": [],
   "source": [
    "def count_handshake(n):\n",
    "    if n == 0:\n",
    "        return 0\n",
    "    else:\n",
    "        return (n-1) + count_handshake(n-1)"
   ]
  },
  {
   "cell_type": "code",
   "execution_count": 165,
   "metadata": {},
   "outputs": [
    {
     "data": {
      "text/plain": [
       "15"
      ]
     },
     "execution_count": 165,
     "metadata": {},
     "output_type": "execute_result"
    }
   ],
   "source": [
    "count_handshake(6)"
   ]
  },
  {
   "cell_type": "code",
   "execution_count": null,
   "metadata": {},
   "outputs": [],
   "source": []
  }
 ],
 "metadata": {
  "kernelspec": {
   "display_name": "Python 3",
   "language": "python",
   "name": "python3"
  },
  "language_info": {
   "codemirror_mode": {
    "name": "ipython",
    "version": 3
   },
   "file_extension": ".py",
   "mimetype": "text/x-python",
   "name": "python",
   "nbconvert_exporter": "python",
   "pygments_lexer": "ipython3",
   "version": "3.7.0"
  }
 },
 "nbformat": 4,
 "nbformat_minor": 2
}
